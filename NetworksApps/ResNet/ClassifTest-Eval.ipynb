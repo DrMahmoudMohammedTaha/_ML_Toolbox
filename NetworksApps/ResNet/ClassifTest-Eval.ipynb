{
 "cells": [
  {
   "cell_type": "code",
   "execution_count": null,
   "metadata": {},
   "outputs": [],
   "source": [
    "import tensorflow as tf\n",
    "import numpy as np\n",
    "import keras\n",
    "import PIL"
   ]
  },
  {
   "cell_type": "code",
   "execution_count": null,
   "metadata": {},
   "outputs": [],
   "source": [
    "# Load model\n",
    "classif_model = keras.models.load_model(\"kanotype_deepdanbooru_resnet-custom-v2.hdf5\")\n",
    "\n",
    "# Load tags\n",
    "with open(\"classif/danbooru-resnet_custom_v2-p4/tags.txt\", 'r') as tags_stream:\n",
    "    tags = np.array([tag for tag in (tag.strip() for tag in tags_stream) if tag])"
   ]
  },
  {
   "cell_type": "code",
   "execution_count": null,
   "metadata": {},
   "outputs": [],
   "source": [
    "# Load image\n",
    "in_path = \"download20190203202101.png\"\n",
    "image = np.array(PIL.Image.open(in_path).convert('RGB').resize((299, 299))) / 255.0\n",
    "\n",
    "# Decode\n",
    "results = classif_model.predict(np.array([image])).reshape(tags.shape[0])"
   ]
  },
  {
   "cell_type": "code",
   "execution_count": null,
   "metadata": {},
   "outputs": [],
   "source": [
    "# Threshold and get tags\n",
    "threshold = 0.1\n",
    "result_tags = {}\n",
    "for i in range(len(tags)):\n",
    "    if results[i] > threshold:\n",
    "        result_tags[tags[i]] = results[i]\n",
    "\n",
    "# Print in order        \n",
    "sorted_tags = reversed(sorted(result_tags.keys(), key = lambda x: result_tags[x]))\n",
    "for tag in sorted_tags:\n",
    "    print('{0: <32} {1:04f}'.format(tag, result_tags[tag]))"
   ]
  },
  {
   "cell_type": "code",
   "execution_count": null,
   "metadata": {},
   "outputs": [],
   "source": [
    "perceptual_model = keras.Model(classif_model.input, classif_model.layers[-5].output)\n",
    "\n",
    "in_paths = [\n",
    "    \"download20190203202101.png\",\n",
    "    \"download20190203202101_2.png\",\n",
    "    \"download20190203201352.png\",\n",
    "    \"download20190206162412.png\",\n",
    "    \"download20190206190813.png\",\n",
    "    \"download20190203203134.png\"\n",
    "]\n",
    "\n",
    "image_results = []\n",
    "for in_path in in_paths:\n",
    "    image = np.array(PIL.Image.open(in_path).convert('RGB').resize((299, 299))) / 255.0\n",
    "    image_results.append(perceptual_model.predict(np.array([image])).flatten())"
   ]
  },
  {
   "cell_type": "code",
   "execution_count": null,
   "metadata": {},
   "outputs": [],
   "source": [
    "%matplotlib inline\n",
    "import matplotlib.pyplot as plt\n",
    "\n",
    "matrix = []\n",
    "for y in range(6):\n",
    "    for x in range(6):\n",
    "        matrix.append(np.mean(np.square(image_results[x] - image_results[y])))\n",
    "matrix = np.array(matrix).reshape(6, 6)\n",
    "plt.imshow(matrix)"
   ]
  },
  {
   "cell_type": "code",
   "execution_count": null,
   "metadata": {},
   "outputs": [],
   "source": []
  },
  {
   "cell_type": "code",
   "execution_count": null,
   "metadata": {},
   "outputs": [],
   "source": []
  }
 ],
 "metadata": {
  "anaconda-cloud": {},
  "kernelspec": {
   "display_name": "Python [conda env:tensorflow]",
   "language": "python",
   "name": "conda-env-tensorflow-py"
  },
  "language_info": {
   "codemirror_mode": {
    "name": "ipython",
    "version": 3
   },
   "file_extension": ".py",
   "mimetype": "text/x-python",
   "name": "python",
   "nbconvert_exporter": "python",
   "pygments_lexer": "ipython3",
   "version": "3.6.8"
  }
 },
 "nbformat": 4,
 "nbformat_minor": 2
}
