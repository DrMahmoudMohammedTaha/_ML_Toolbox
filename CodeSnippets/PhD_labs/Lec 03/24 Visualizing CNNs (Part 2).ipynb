{
 "cells": [
  {
   "cell_type": "markdown",
   "id": "5ca87543-e856-47ea-95c6-9198a682dd0c",
   "metadata": {
    "tags": []
   },
   "source": [
    "   \n",
    "24\\. Visualizing CNNs (Part 2)\n",
    "==============================\n",
    "\n",
    "Visualizing CNNs\n",
    "================\n",
    "\n",
    "Let’s look at an example CNN to see how it works in action.\n",
    "\n",
    "The CNN we will look at is trained on ImageNet as described in [this paper](http://www.matthewzeiler.com/pubs/arxive2013/eccv2014.pdf) by Zeiler and Fergus. In the images below (from the same paper), we’ll see _what_ each layer in this network detects and see _how_ each layer detects more and more complex ideas.\n",
    "\n",
    "![Example patterns that cause activations in the first layer of the network. These range from simple diagonal lines (top left) to green blobs (bottom middle).](img/layer-1-grid.png)\n",
    "\n",
    "Example patterns that cause activations in the first layer of the network. These range from simple diagonal lines (top left) to green blobs (bottom middle).\n",
    "\n",
    "The images above are from Matthew Zeiler and Rob Fergus' [deep visualization toolbox](https://www.youtube.com/watch?v=ghEmQSxT6tw), which lets us visualize what each layer in a CNN focuses on.\n",
    "\n",
    "Each image in the above grid represents a pattern that causes the neurons in the first layer to activate - in other words, they are patterns that the first layer recognizes. The top left image shows a -45 degree line, while the middle top square shows a +45 degree line. These squares are shown below again for reference.\n",
    "\n",
    "![As visualized here, the first layer of the CNN can recognize -45 degree lines.](img/diagonal-line-1.png)\n",
    "\n",
    "As visualized here, the first layer of the CNN can recognize -45 degree lines.\n",
    "\n",
    "![The first layer of the CNN is also able to recognize +45 degree lines, like the one above.](img/diagonal-line-2.png)\n",
    "\n",
    "The first layer of the CNN is also able to recognize +45 degree lines, like the one above.\n",
    "\n",
    "Let's now see some example images that cause such activations. The below grid of images all activated the -45 degree line. Notice how they are all selected despite the fact that they have different colors, gradients, and patterns.\n",
    "\n",
    "![Example patches that activate the -45 degree line detector in the first layer.](img/grid-layer-1.png)\n",
    "\n",
    "Example patches that activate the -45 degree line detector in the first layer.\n",
    "\n",
    "So, the first layer of our CNN clearly picks out very simple shapes and patterns like lines and blobs.\n",
    "\n",
    "### Layer 2\n",
    "\n",
    "![A visualization of the second layer in the CNN. Notice how we are picking up more complex ideas like circles and stripes. The gray grid on the left represents how this layer of the CNN activates (or \"what it sees\") based on the corresponding images from the grid on the right.](img/screen-shot-2016-11-24-at-12.09.02-pm.png)\n",
    "\n",
    "A visualization of the second layer in the CNN. Notice how we are picking up more complex ideas like circles and stripes. The gray grid on the left represents how this layer of the CNN activates (or \"what it sees\") based on the corresponding images from the grid on the right.\n",
    "\n",
    "The second layer of the CNN captures complex ideas.\n",
    "\n",
    "As you see in the image above, the second layer of the CNN recognizes circles (second row, second column), stripes (first row, second column), and rectangles (bottom right).\n",
    "\n",
    "**The CNN learns to do this on its own.** There is no special instruction for the CNN to focus on more complex objects in deeper layers. That's just how it normally works out when you feed training data into a CNN.\n",
    "\n",
    "### Layer 3\n",
    "\n",
    "![A visualization of the third layer in the CNN. The gray grid on the left represents how this layer of the CNN activates (or \"what it sees\") based on the corresponding images from the grid on the right.](img/screen-shot-2016-11-24-at-12.09.24-pm.png)\n",
    "\n",
    "A visualization of the third layer in the CNN. The gray grid on the left represents how this layer of the CNN activates (or \"what it sees\") based on the corresponding images from the grid on the right.\n",
    "\n",
    "The third layer picks out complex combinations of features from the second layer. These include things like grids, and honeycombs (top left), wheels (second row, second column), and even faces (third row, third column).\n",
    "\n",
    "We'll skip layer 4, which continues this progression, and jump right to the fifth and final layer of this CNN.\n",
    "\n",
    "### Layer 5\n",
    "\n",
    "![A visualization of the fifth and final layer of the CNN. The gray grid on the left represents how this layer of the CNN activates (or \"what it sees\") based on the corresponding images from the grid on the right.](img/screen-shot-2016-11-24-at-12.08.11-pm.png)\n",
    "\n",
    "A visualization of the fifth and final layer of the CNN. The gray grid on the left represents how this layer of the CNN activates (or \"what it sees\") based on the corresponding images from the grid on the right.\n",
    "\n",
    "The last layer picks out the highest order ideas that we care about for classification, like dog faces, bird faces, and bicycles.\n",
    "\n"
   ]
  }
 ],
 "metadata": {
  "kernelspec": {
   "display_name": "Python 3 (ipykernel)",
   "language": "python",
   "name": "python3"
  },
  "language_info": {
   "codemirror_mode": {
    "name": "ipython",
    "version": 3
   },
   "file_extension": ".py",
   "mimetype": "text/x-python",
   "name": "python",
   "nbconvert_exporter": "python",
   "pygments_lexer": "ipython3",
   "version": "3.11.5"
  }
 },
 "nbformat": 4,
 "nbformat_minor": 5
}
