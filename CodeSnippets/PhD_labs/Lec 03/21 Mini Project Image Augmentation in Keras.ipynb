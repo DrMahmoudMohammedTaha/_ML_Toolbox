{
 "cells": [
  {
   "cell_type": "markdown",
   "id": "ca52362f-d015-4bf8-bed5-b67c6ff6d59e",
   "metadata": {
    "tags": []
   },
   "source": [
    "## Mini Project: Image Augmentation in Keras\n",
    "- Read more about data augmentation in Keras by perusing the documentation.\n",
    "\n",
    "- In this mini-project, you'll modify the data augmentation in cifar10_augmentation.ipynb and examine how the accuracy of your network changes.\n",
    "---\n"
   ]
  },
  {
   "cell_type": "markdown",
   "id": "053db4eb-dd23-42c0-b18d-b7921bc46a96",
   "metadata": {},
   "source": [
    "## Instructions\n",
    "\n",
    "### QUESTION:\n",
    "\n",
    "- Modify Step 5: Create and Configure Augmented Image Generator in the notebook to use different settings for data augmentation.\n",
    "\n",
    "- Once you've changed the settings, train the model. Check the accuracy on the test dataset, and report the percentage."
   ]
  },
  {
   "cell_type": "code",
   "execution_count": null,
   "id": "ac5b5146-d6e0-480d-a942-4c6aaa23305b",
   "metadata": {},
   "outputs": [],
   "source": []
  }
 ],
 "metadata": {
  "kernelspec": {
   "display_name": "Python 3 (ipykernel)",
   "language": "python",
   "name": "python3"
  },
  "language_info": {
   "codemirror_mode": {
    "name": "ipython",
    "version": 3
   },
   "file_extension": ".py",
   "mimetype": "text/x-python",
   "name": "python",
   "nbconvert_exporter": "python",
   "pygments_lexer": "ipython3",
   "version": "3.11.5"
  }
 },
 "nbformat": 4,
 "nbformat_minor": 5
}
