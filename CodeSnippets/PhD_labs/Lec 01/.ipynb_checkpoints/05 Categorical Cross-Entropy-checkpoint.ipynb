{
 "cells": [
  {
   "cell_type": "markdown",
   "metadata": {},
   "source": [
    "# Loss Function and Optimization in Neural Networks\n",
    "\n",
    "By the end of the last video, our data was processed and our model was specified. Currently, all of the 600,000 or so weights have random values and so the model has random predictions. By training the model, we'll modify these weights and improve the predictions. But before training the model, we'll need to specify a loss function."
   ]
  },
  {
   "cell_type": "markdown",
   "metadata": {},
   "source": [
    "## Loss Function: Categorical Cross-Entropy\n",
    "\n",
    "Since we're constructing a multiclass classifier, we'll use categorical cross-entropy loss. This loss function checks to see if our model has done a good job with classifying an image by comparing the model's prediction to the true label. The categorical cross-entropy loss looks at these two vectors and returns a lower value if the two vectors agree regarding what's in the image."
   ]
  },
  {
   "cell_type": "markdown",
   "metadata": {},
   "source": [
    "## Optimization: Gradient Descent\n",
    "\n",
    "The standard method for descending a loss function is called gradient descent. You've been introduced to a number of ways to perform gradient descent and each method in Keras has a corresponding optimizer. In this lesson, the examples will always use RMSProp as an optimizer."
   ]
  },
  {
   "cell_type": "code",
   "execution_count": 1,
   "metadata": {},
   "outputs": [],
   "source": [
    "# Sample code for compiling the model in Keras\n",
    "from keras.optimizers import RMSprop\n",
    "\n",
    "# Compile the model\n",
    "model.compile(optimizer=RMSprop(), loss='categorical_crossentropy', metrics=['accuracy'])\n",
    "\n",
    "# Print model summary\n",
    "model.summary()"
   ]
  },
  {
   "cell_type": "markdown",
   "metadata": {},
   "source": [
    "Once we've compiled the model, we can check to see what kind of accuracy it already has on the test set before we train it."
   ]
  },
  {
   "cell_type": "code",
   "execution_count": 2,
   "metadata": {},
   "outputs": [],
   "source": [
    "# Sample code for evaluating the model's initial accuracy on the test set\n",
    "initial_accuracy = model.evaluate(test_images, test_labels_encoded, verbose=0)[1]\n",
    "print('Initial Accuracy on Test Set:', initial_accuracy)"
   ]
  }
 ],
 "metadata": {
  "kernelspec": {
   "display_name": "Python 3",
   "language": "python",
   "name": "python3"
  },
  "language_info": {
   "codemirror_mode": {
    "name": "ipython",
    "version": 3
   },
   "file_extension": ".py",
   "mimetype": "text/x-python",
   "name": "python",
   "nbconvert_exporter": "python",
   "pygments_lexer": "ipython3",
   "version": "3.6.9"
  }
 },
 "nbformat": 4,
 "nbformat_minor": 2
}
