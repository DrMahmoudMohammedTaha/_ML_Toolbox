{
 "cells": [
  {
   "cell_type": "markdown",
   "id": "e383238c-ee13-4621-bba5-5e295d4fb921",
   "metadata": {},
   "source": [
    "### Part 03 : Convolutional Networks\n",
    "\n",
    "Convolutional neural network is the standard for solving vision problems. It’s used in self driving cars, face recognition, medical imaging, and a whole lot more! You’ll learn how this neural network works and apply to a image classification problem.\n",
    "\n",
    "\n",
    "\n",
    "### Part 04 : Recurrent Networks\n",
    "\n",
    "Recurrent neural network is great for predicting on sequential data like music and text. With this neural network, you can generate new music, translate a language, or predict a seizure using an electroencephalogram. This section will teach you how to build and train a recurrent neural.\n",
    "\n",
    "### Part 05 : Generative Adversarial Networks\n",
    "\n",
    "Generative adversarial networks are a type of unsupervised learning where two neural networks compete against each other. This is commonly used to generate image data. You’ll learn how to build your own generative adversarial network and pit two neural networks against each other.\n",
    "\n",
    "\n",
    "### Part 06 : Deep Reinforcement Learning\n",
    "\n",
    "Use Reinforcement Learning algorithms like Q-Learning to train artificial agents to take optimal actions in an environment.\n",
    "\n",
    "\n"
   ]
  },
  {
   "cell_type": "code",
   "execution_count": null,
   "id": "b37e8eca-50fa-41ca-929d-4fc40ea15038",
   "metadata": {},
   "outputs": [],
   "source": []
  }
 ],
 "metadata": {
  "kernelspec": {
   "display_name": "Python 3 (ipykernel)",
   "language": "python",
   "name": "python3"
  },
  "language_info": {
   "codemirror_mode": {
    "name": "ipython",
    "version": 3
   },
   "file_extension": ".py",
   "mimetype": "text/x-python",
   "name": "python",
   "nbconvert_exporter": "python",
   "pygments_lexer": "ipython3",
   "version": "3.11.5"
  }
 },
 "nbformat": 4,
 "nbformat_minor": 5
}
